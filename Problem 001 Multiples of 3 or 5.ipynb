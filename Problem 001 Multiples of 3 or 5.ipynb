{
 "cells": [
  {
   "cell_type": "markdown",
   "id": "d3a2484b",
   "metadata": {},
   "source": [
    "# Multiples of 3 or 5"
   ]
  },
  {
   "cell_type": "markdown",
   "id": "ed9d3ff1",
   "metadata": {},
   "source": [
    "If we list all the natural numbers below 10 that are multiples of 3 or 5, we get 3, 5, 6 and 9. The sum of these multiples is 23.\n",
    "\n",
    "Find the sum of all the multiples of 3 or 5 below 1000."
   ]
  },
  {
   "cell_type": "markdown",
   "id": "d6307e19",
   "metadata": {},
   "source": [
    "*A simple way to do this is to generate numbers and check whether each of them are divisible by 3 or 5 and sum up those that are.*"
   ]
  },
  {
   "cell_type": "code",
   "execution_count": 17,
   "id": "ffaa27a3",
   "metadata": {},
   "outputs": [
    {
     "name": "stdout",
     "output_type": "stream",
     "text": [
      "Wall time: 0 ns\n",
      "233168\n"
     ]
    }
   ],
   "source": [
    "%time\n",
    "s = 0\n",
    "for i in range (1, 1000): #loop to generate numbers\n",
    "    if i%3 ==0 or i% 5 ==0: #logic check if divisible by 3 or 5\n",
    "        s = s+i #sum it up\n",
    "print (s)"
   ]
  },
  {
   "cell_type": "markdown",
   "id": "a9600d35",
   "metadata": {},
   "source": [
    "*Another method is to generate numbers that are divisible by 3 or 5 that are smaller than 1000 and sum them up. However, we will be counting the numbers that are divisible by 15 twice. So we need to remove them.*"
   ]
  },
  {
   "cell_type": "code",
   "execution_count": 22,
   "id": "a93fa152",
   "metadata": {},
   "outputs": [
    {
     "name": "stdout",
     "output_type": "stream",
     "text": [
      "Wall time: 0 ns\n",
      "233168\n"
     ]
    }
   ],
   "source": [
    "%time\n",
    "s = 0\n",
    "for i in range (1, 1000): #loop to generate number divisible by 3\n",
    "    if i*3 >=1000:\n",
    "        break #break loop when larger or equal to 1000\n",
    "    else:\n",
    "        s=s+i*3 #add it up if less than 1000\n",
    "for i in range (1, 1000): #like the one above but for divisible by 5\n",
    "    if i*5 >= 1000:\n",
    "        break\n",
    "    else: \n",
    "        s=s+i*5\n",
    "for i in range (1, 1000): #likewise but for divisible by 15\n",
    "    if i*15>= 1000:\n",
    "        break\n",
    "    else: \n",
    "        s=s-i*15 #numbers divisible by 15 are added twice so we need to remove them.\n",
    "print(s)"
   ]
  },
  {
   "cell_type": "markdown",
   "id": "56691a3c",
   "metadata": {},
   "source": [
    "*The method above is the same logic with how we could solve this problem with just a line of equation. This problem is simple enough to be solved with pocket calculator or pencil and paper if you prefer. In fact, I solved this many years ago without any programming. You could do this with arithmetic progression formula.*\n",
    "\n",
    "$S_n = \\frac{n}{2}[2a+(n-1)d]$\n",
    "\n",
    "where $a$ is the first term, $d$ the common difference and $n$ the number of terms.\n",
    "\n",
    "To find the number of terms, we simply divide $1000-1$ and round it down, thus:\n",
    "\n",
    "$\\Sigma = \\frac{333}{2}[2+(333-1)\\cdot3]+\\frac{199}{2}[2+(199-1)\\cdot5]- \\frac{66}{2}[2+(66-1)\\cdot15]$"
   ]
  },
  {
   "cell_type": "code",
   "execution_count": 25,
   "id": "bb92bf07",
   "metadata": {},
   "outputs": [
    {
     "data": {
      "text/plain": [
       "233168.0"
      ]
     },
     "execution_count": 25,
     "metadata": {},
     "output_type": "execute_result"
    }
   ],
   "source": [
    "333/2*(2+333-1)*3+199/2*(2+199-1)*5-66/2*(2+66-1)*15\n"
   ]
  }
 ],
 "metadata": {
  "kernelspec": {
   "display_name": "Python 3 (ipykernel)",
   "language": "python",
   "name": "python3"
  },
  "language_info": {
   "codemirror_mode": {
    "name": "ipython",
    "version": 3
   },
   "file_extension": ".py",
   "mimetype": "text/x-python",
   "name": "python",
   "nbconvert_exporter": "python",
   "pygments_lexer": "ipython3",
   "version": "3.9.7"
  }
 },
 "nbformat": 4,
 "nbformat_minor": 5
}
