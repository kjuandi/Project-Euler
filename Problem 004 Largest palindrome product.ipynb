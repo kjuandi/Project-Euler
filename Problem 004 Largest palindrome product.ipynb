{
 "cells": [
  {
   "cell_type": "markdown",
   "id": "7cd72c40",
   "metadata": {},
   "source": [
    "# Largest palindrome product"
   ]
  },
  {
   "cell_type": "markdown",
   "id": "43d3e5dc",
   "metadata": {},
   "source": [
    "A palindromic number reads the same both ways. The largest palindrome made from the product of two 2-digit numbers is 9009 = 91 × 99.\n",
    "\n",
    "Find the largest palindrome made from the product of two 3-digit numbers."
   ]
  },
  {
   "cell_type": "markdown",
   "id": "6033fa21",
   "metadata": {},
   "source": [
    "*A brute force way to do this to run nested loops of multiplication of $x\\cdot(x+y)$ with $x$ starts from 100 and $y$ starts from 1 until $x+y = 999$ while checking if the product is a palindrome.*"
   ]
  },
  {
   "cell_type": "code",
   "execution_count": null,
   "id": "e8611cde",
   "metadata": {},
   "outputs": [],
   "source": [
    "def checkpalindrome (number):\n",
    "    n = list(str(number)) #converts number to list of strings\n",
    "    m = list(reversed(n)) #reverse list order\n",
    "    if n == m: #True if it is palindrome\n",
    "        return number"
   ]
  },
  {
   "cell_type": "code",
   "execution_count": null,
   "id": "f593aeed",
   "metadata": {},
   "outputs": [],
   "source": [
    "x=100\n",
    "p=0\n",
    "while x < 1000: #x loop\n",
    "    y=1\n",
    "    while x+y < 1000: #x+y loop\n",
    "        z = x*(x+y)\n",
    "        if checkpalindrome (z) == z: #check if product is a palindrome \n",
    "            if p < z: #we want the largest afterall\n",
    "                p = z\n",
    "                x_max = x\n",
    "                y_max = y\n",
    "        y=y+1\n",
    "    x=x+1\n",
    "print(p, 'is the largest palindrome which is the product of', x_max, 'and', x_max+y_max)"
   ]
  },
  {
   "cell_type": "markdown",
   "id": "59d3b4b7",
   "metadata": {},
   "source": [
    "*Perhaps it is smarter to work from 999 instead. We are looking for largest number afterall. We work backwards following $(1000-x)\\cdot(1000-y)$.*"
   ]
  },
  {
   "cell_type": "code",
   "execution_count": null,
   "id": "ca4ac8b2",
   "metadata": {},
   "outputs": [],
   "source": [
    "x=1\n",
    "p=0\n",
    "while x < 100: #x loop\n",
    "    y=1\n",
    "    while x+y < 100: #x+y loop\n",
    "        z = (1000-x)*(1000-x-y)\n",
    "        if checkpalindrome (z) == z: #check if product is a palindrome \n",
    "            if p < z: #we want the largest afterall\n",
    "                p = z\n",
    "                x_max = x\n",
    "                y_max = y\n",
    "        y=y+1\n",
    "    x=x+1\n",
    "print(p, 'is the largest palindrome which is the product of', 1000-x_max, 'and', 1000-x_max-y_max)"
   ]
  }
 ],
 "metadata": {
  "kernelspec": {
   "display_name": "Python 3 (ipykernel)",
   "language": "python",
   "name": "python3"
  },
  "language_info": {
   "codemirror_mode": {
    "name": "ipython",
    "version": 3
   },
   "file_extension": ".py",
   "mimetype": "text/x-python",
   "name": "python",
   "nbconvert_exporter": "python",
   "pygments_lexer": "ipython3",
   "version": "3.9.7"
  }
 },
 "nbformat": 4,
 "nbformat_minor": 5
}
