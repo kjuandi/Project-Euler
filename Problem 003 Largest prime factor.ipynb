{
 "cells": [
  {
   "cell_type": "markdown",
   "id": "7d4e48b6",
   "metadata": {},
   "source": [
    "# Largest prime factor"
   ]
  },
  {
   "cell_type": "markdown",
   "id": "483e9503",
   "metadata": {},
   "source": [
    "The prime factors of 13195 are 5, 7, 13 and 29.\n",
    "\n",
    "What is the largest prime factor of the number 600851475143 ?"
   ]
  },
  {
   "cell_type": "code",
   "execution_count": null,
   "id": "aa696c9a",
   "metadata": {},
   "outputs": [],
   "source": [
    "def primefactor(n):\n",
    "    a = []\n",
    "    f = 2\n",
    "    while n > 2:\n",
    "        if n%f == 0:\n",
    "            a.append(f)\n",
    "            n = n// f\n",
    "        else:\n",
    "            f+= 1\n",
    "    return a"
   ]
  }
 ],
 "metadata": {
  "kernelspec": {
   "display_name": "Python 3 (ipykernel)",
   "language": "python",
   "name": "python3"
  },
  "language_info": {
   "codemirror_mode": {
    "name": "ipython",
    "version": 3
   },
   "file_extension": ".py",
   "mimetype": "text/x-python",
   "name": "python",
   "nbconvert_exporter": "python",
   "pygments_lexer": "ipython3",
   "version": "3.9.7"
  }
 },
 "nbformat": 4,
 "nbformat_minor": 5
}
